{
 "cells": [
  {
   "cell_type": "markdown",
   "metadata": {
    "_uuid": "0a22c7c3a188c1d55f61509433e21f7c2ae397f0"
   },
   "source": [
    "This notebook covers the cleaning and exploration of data for 'Google Play Store Apps'"
   ]
  },
  {
   "cell_type": "markdown",
   "metadata": {
    "_uuid": "34b4406efb067c5823f30362c39bc23b2b435264"
   },
   "source": [
    "### Imporing Libraries"
   ]
  },
  {
   "cell_type": "code",
   "execution_count": 1,
   "metadata": {
    "_cell_guid": "b1076dfc-b9ad-4769-8c92-a6c4dae69d19",
    "_uuid": "8f2839f25d086af736a60e9eeb907d3b93b6e0e5"
   },
   "outputs": [
    {
     "name": "stdout",
     "output_type": "stream",
     "text": [
      "['googleplaystore.csv', 'googleplaystore_user_reviews.csv']\n"
     ]
    }
   ],
   "source": [
    "import numpy as np # linear algebra\n",
    "import pandas as pd # data processing, CSV file I/O (e.g. pd.read_csv)\n",
    "import matplotlib.pyplot as plt # for plots\n",
    "\n",
    "import os\n",
    "print(os.listdir(\"../input\"))"
   ]
  },
  {
   "cell_type": "markdown",
   "metadata": {
    "_uuid": "a973ad74107beac5a43d08304acc6f59e480c6c8"
   },
   "source": [
    "### Reading data from the csv file"
   ]
  },
  {
   "cell_type": "code",
   "execution_count": 2,
   "metadata": {
    "_cell_guid": "79c7e3d0-c299-4dcb-8224-4455121ee9b0",
    "_uuid": "d629ff2d2480ee46fbb7e2d37f6b5fab8052498a"
   },
   "outputs": [
    {
     "data": {
      "text/html": [
       "<div>\n",
       "<style scoped>\n",
       "    .dataframe tbody tr th:only-of-type {\n",
       "        vertical-align: middle;\n",
       "    }\n",
       "\n",
       "    .dataframe tbody tr th {\n",
       "        vertical-align: top;\n",
       "    }\n",
       "\n",
       "    .dataframe thead th {\n",
       "        text-align: right;\n",
       "    }\n",
       "</style>\n",
       "<table border=\"1\" class=\"dataframe\">\n",
       "  <thead>\n",
       "    <tr style=\"text-align: right;\">\n",
       "      <th></th>\n",
       "      <th>App</th>\n",
       "      <th>Category</th>\n",
       "      <th>Rating</th>\n",
       "      <th>Reviews</th>\n",
       "      <th>Size</th>\n",
       "      <th>Installs</th>\n",
       "      <th>Type</th>\n",
       "      <th>Price</th>\n",
       "      <th>Content Rating</th>\n",
       "      <th>Genres</th>\n",
       "      <th>Last Updated</th>\n",
       "      <th>Current Ver</th>\n",
       "      <th>Android Ver</th>\n",
       "    </tr>\n",
       "  </thead>\n",
       "  <tbody>\n",
       "    <tr>\n",
       "      <th>0</th>\n",
       "      <td>Photo Editor &amp; Candy Camera &amp; Grid &amp; ScrapBook</td>\n",
       "      <td>ART_AND_DESIGN</td>\n",
       "      <td>4.1</td>\n",
       "      <td>159</td>\n",
       "      <td>19M</td>\n",
       "      <td>10,000+</td>\n",
       "      <td>Free</td>\n",
       "      <td>0</td>\n",
       "      <td>Everyone</td>\n",
       "      <td>Art &amp; Design</td>\n",
       "      <td>January 7, 2018</td>\n",
       "      <td>1.0.0</td>\n",
       "      <td>4.0.3 and up</td>\n",
       "    </tr>\n",
       "    <tr>\n",
       "      <th>1</th>\n",
       "      <td>Coloring book moana</td>\n",
       "      <td>ART_AND_DESIGN</td>\n",
       "      <td>3.9</td>\n",
       "      <td>967</td>\n",
       "      <td>14M</td>\n",
       "      <td>500,000+</td>\n",
       "      <td>Free</td>\n",
       "      <td>0</td>\n",
       "      <td>Everyone</td>\n",
       "      <td>Art &amp; Design;Pretend Play</td>\n",
       "      <td>January 15, 2018</td>\n",
       "      <td>2.0.0</td>\n",
       "      <td>4.0.3 and up</td>\n",
       "    </tr>\n",
       "    <tr>\n",
       "      <th>2</th>\n",
       "      <td>U Launcher Lite – FREE Live Cool Themes, Hide ...</td>\n",
       "      <td>ART_AND_DESIGN</td>\n",
       "      <td>4.7</td>\n",
       "      <td>87510</td>\n",
       "      <td>8.7M</td>\n",
       "      <td>5,000,000+</td>\n",
       "      <td>Free</td>\n",
       "      <td>0</td>\n",
       "      <td>Everyone</td>\n",
       "      <td>Art &amp; Design</td>\n",
       "      <td>August 1, 2018</td>\n",
       "      <td>1.2.4</td>\n",
       "      <td>4.0.3 and up</td>\n",
       "    </tr>\n",
       "    <tr>\n",
       "      <th>3</th>\n",
       "      <td>Sketch - Draw &amp; Paint</td>\n",
       "      <td>ART_AND_DESIGN</td>\n",
       "      <td>4.5</td>\n",
       "      <td>215644</td>\n",
       "      <td>25M</td>\n",
       "      <td>50,000,000+</td>\n",
       "      <td>Free</td>\n",
       "      <td>0</td>\n",
       "      <td>Teen</td>\n",
       "      <td>Art &amp; Design</td>\n",
       "      <td>June 8, 2018</td>\n",
       "      <td>Varies with device</td>\n",
       "      <td>4.2 and up</td>\n",
       "    </tr>\n",
       "    <tr>\n",
       "      <th>4</th>\n",
       "      <td>Pixel Draw - Number Art Coloring Book</td>\n",
       "      <td>ART_AND_DESIGN</td>\n",
       "      <td>4.3</td>\n",
       "      <td>967</td>\n",
       "      <td>2.8M</td>\n",
       "      <td>100,000+</td>\n",
       "      <td>Free</td>\n",
       "      <td>0</td>\n",
       "      <td>Everyone</td>\n",
       "      <td>Art &amp; Design;Creativity</td>\n",
       "      <td>June 20, 2018</td>\n",
       "      <td>1.1</td>\n",
       "      <td>4.4 and up</td>\n",
       "    </tr>\n",
       "  </tbody>\n",
       "</table>\n",
       "</div>"
      ],
      "text/plain": [
       "                                                 App        Category  Rating  \\\n",
       "0     Photo Editor & Candy Camera & Grid & ScrapBook  ART_AND_DESIGN     4.1   \n",
       "1                                Coloring book moana  ART_AND_DESIGN     3.9   \n",
       "2  U Launcher Lite – FREE Live Cool Themes, Hide ...  ART_AND_DESIGN     4.7   \n",
       "3                              Sketch - Draw & Paint  ART_AND_DESIGN     4.5   \n",
       "4              Pixel Draw - Number Art Coloring Book  ART_AND_DESIGN     4.3   \n",
       "\n",
       "  Reviews  Size     Installs  Type Price Content Rating  \\\n",
       "0     159   19M      10,000+  Free     0       Everyone   \n",
       "1     967   14M     500,000+  Free     0       Everyone   \n",
       "2   87510  8.7M   5,000,000+  Free     0       Everyone   \n",
       "3  215644   25M  50,000,000+  Free     0           Teen   \n",
       "4     967  2.8M     100,000+  Free     0       Everyone   \n",
       "\n",
       "                      Genres      Last Updated         Current Ver  \\\n",
       "0               Art & Design   January 7, 2018               1.0.0   \n",
       "1  Art & Design;Pretend Play  January 15, 2018               2.0.0   \n",
       "2               Art & Design    August 1, 2018               1.2.4   \n",
       "3               Art & Design      June 8, 2018  Varies with device   \n",
       "4    Art & Design;Creativity     June 20, 2018                 1.1   \n",
       "\n",
       "    Android Ver  \n",
       "0  4.0.3 and up  \n",
       "1  4.0.3 and up  \n",
       "2  4.0.3 and up  \n",
       "3    4.2 and up  \n",
       "4    4.4 and up  "
      ]
     },
     "execution_count": 2,
     "metadata": {},
     "output_type": "execute_result"
    }
   ],
   "source": [
    "data = pd.read_csv('../input/googleplaystore.csv')\n",
    "data.head()"
   ]
  },
  {
   "cell_type": "code",
   "execution_count": 3,
   "metadata": {
    "_uuid": "ab544fbe57b380606268db4f61571b4844d154b4"
   },
   "outputs": [],
   "source": [
    "data.columns = data.columns.str.replace(' ', '_')"
   ]
  },
  {
   "cell_type": "code",
   "execution_count": 4,
   "metadata": {
    "_uuid": "013a20ffa3576055b3cfcfa9910e00838e97fe64"
   },
   "outputs": [
    {
     "name": "stdout",
     "output_type": "stream",
     "text": [
      "Shape of data (samples, features):  (10841, 13)\n",
      "Data Types: \n",
      " object     12\n",
      "float64     1\n",
      "dtype: int64\n"
     ]
    }
   ],
   "source": [
    "print(\"Shape of data (samples, features): \",data.shape)\n",
    "print(\"Data Types: \\n\", data.dtypes.value_counts())"
   ]
  },
  {
   "cell_type": "markdown",
   "metadata": {
    "_uuid": "1ea314f7efe65624eb13e25dc41ddbe7749ff061"
   },
   "source": [
    "The data has **12** object and **1** numeric feature i.e. *Rating*. "
   ]
  },
  {
   "cell_type": "markdown",
   "metadata": {
    "_uuid": "5f489b43c115a2f3c6b9664eea43be31b8f90ae9"
   },
   "source": [
    "Now Exploring each features individually\n",
    "1. [Size](#size)\n",
    "2. [Installs](#installs)\n",
    "3. [Reviews](#reviews)\n",
    "4. [Rating](#rating)\n",
    "5. [Type](#type)\n",
    "6. [Price](#price)\n",
    "7. [Category](#cat)\n",
    "8. [Content Rating](#content_rating)\n",
    "9. [Genres](#genres)\n",
    "10. [Last Updated](#last_updated)\n",
    "11. [Current Version](#current_version)\n",
    "12. [Android Version](#android_version)"
   ]
  },
  {
   "cell_type": "markdown",
   "metadata": {
    "_uuid": "717839b603635e073148af0139c71f5ad4d6136d"
   },
   "source": [
    "## <a id=size>Size</a>"
   ]
  },
  {
   "cell_type": "markdown",
   "metadata": {
    "_uuid": "7408cea21b43f465e0c61cf71c87512c38c82b09"
   },
   "source": [
    "Lets look into frequency of each item to get an idea of data nature"
   ]
  },
  {
   "cell_type": "code",
   "execution_count": 5,
   "metadata": {
    "_uuid": "87c809133988243c780b5fcc7fee3129ba20e0ce"
   },
   "outputs": [
    {
     "data": {
      "text/plain": [
       "Varies with device    1695\n",
       "11M                    198\n",
       "12M                    196\n",
       "14M                    194\n",
       "13M                    191\n",
       "Name: Size, dtype: int64"
      ]
     },
     "execution_count": 5,
     "metadata": {},
     "output_type": "execute_result"
    }
   ],
   "source": [
    "data.Size.value_counts().head()\n",
    "#please remove head() to get a better understanding "
   ]
  },
  {
   "cell_type": "markdown",
   "metadata": {
    "_uuid": "4cbc92589971be0b2402e7661b4c55b71ac7bbab"
   },
   "source": [
    "It can be seen that data has metric prefixes (Kilo and Mega) along with another string.\n",
    "Replacing k and M with their values to convert values to numeric."
   ]
  },
  {
   "cell_type": "code",
   "execution_count": 6,
   "metadata": {
    "_uuid": "43e019941906a0343588cb29abd261b54e062e6e"
   },
   "outputs": [
    {
     "data": {
      "text/plain": [
       "0     19e+6\n",
       "1     14e+6\n",
       "2    8.7e+6\n",
       "3     25e+6\n",
       "4    2.8e+6\n",
       "Name: Size, dtype: object"
      ]
     },
     "execution_count": 6,
     "metadata": {},
     "output_type": "execute_result"
    }
   ],
   "source": [
    "data.Size=data.Size.str.replace('k','e+3')\n",
    "data.Size=data.Size.str.replace('M','e+6')\n",
    "data.Size.head()"
   ]
  },
  {
   "cell_type": "markdown",
   "metadata": {
    "_uuid": "0df6a598876a1867a921a302de388edd91977b74"
   },
   "source": [
    "Now, we have some two types of values in our Size data.\n",
    "1. exponential values (not yet converted to string)\n",
    "2. Strings (that cannot be converted into numeric)\n",
    "\n",
    "Thus specifing categories 1 and 2 as an boolean array **temp**, to convert category 1 to numeric. \n"
   ]
  },
  {
   "cell_type": "code",
   "execution_count": 7,
   "metadata": {
    "_uuid": "3606cfa4bb3ce5ef846151435fefa6e41fdafbaf"
   },
   "outputs": [
    {
     "data": {
      "text/plain": [
       "0    True\n",
       "1    True\n",
       "2    True\n",
       "3    True\n",
       "4    True\n",
       "Name: Size, dtype: bool"
      ]
     },
     "execution_count": 7,
     "metadata": {},
     "output_type": "execute_result"
    }
   ],
   "source": [
    "def is_convertable(v):\n",
    "    try:\n",
    "        float(v)\n",
    "        return True\n",
    "    except ValueError:\n",
    "        return False\n",
    "    \n",
    "temp=data.Size.apply(lambda x: is_convertable(x))\n",
    "temp.head()"
   ]
  },
  {
   "cell_type": "markdown",
   "metadata": {
    "_uuid": "5fe6c3518177cb913aeb81d595e05281b2ada489"
   },
   "source": [
    "Now checking unique non numeric values (***~temp***) in Size."
   ]
  },
  {
   "cell_type": "code",
   "execution_count": 8,
   "metadata": {
    "_uuid": "01dac302c76f5a4773ed618d50ee0e66adf53675"
   },
   "outputs": [
    {
     "data": {
      "text/plain": [
       "Varies with device    1695\n",
       "1,000+                   1\n",
       "Name: Size, dtype: int64"
      ]
     },
     "execution_count": 8,
     "metadata": {},
     "output_type": "execute_result"
    }
   ],
   "source": [
    "data.Size[~temp].value_counts()"
   ]
  },
  {
   "cell_type": "markdown",
   "metadata": {
    "_uuid": "ef66311f234bd372e7338e9903b8be97ec0bd8bb"
   },
   "source": [
    "- Replacing 'Varies with Device' by nan and \n",
    "- Converting 1,000+ to 1000, to make it numeric"
   ]
  },
  {
   "cell_type": "code",
   "execution_count": 9,
   "metadata": {
    "_uuid": "e9ab83003f2b5a55e486a027399233ede28e3bee"
   },
   "outputs": [],
   "source": [
    "data.Size=data.Size.replace('Varies with device',np.nan)\n",
    "data.Size=data.Size.replace('1,000+',1000)"
   ]
  },
  {
   "cell_type": "markdown",
   "metadata": {
    "_uuid": "57095a9231a5c4a6220edf02f1ec853e3f7d9847"
   },
   "source": [
    "Converting the cleaned Size data to numeric type"
   ]
  },
  {
   "cell_type": "code",
   "execution_count": 10,
   "metadata": {
    "_uuid": "762003b1d8d505fe236fe7ceb8f16665700bc2a8"
   },
   "outputs": [],
   "source": [
    "data.Size=pd.to_numeric(data.Size)"
   ]
  },
  {
   "cell_type": "code",
   "execution_count": 11,
   "metadata": {
    "_uuid": "f5408ebd9e1dbb371c1e2aa9d1af6a562195964a"
   },
   "outputs": [
    {
     "data": {
      "text/plain": [
       "Text(0, 0.5, 'Frequency')"
      ]
     },
     "execution_count": 11,
     "metadata": {},
     "output_type": "execute_result"
    },
    {
     "data": {
      "image/png": "[encoded data removed]",
      "text/plain": [
       "<Figure size 432x288 with 1 Axes>"
      ]
     },
     "metadata": {
      "needs_background": "light"
     },
     "output_type": "display_data"
    }
   ],
   "source": [
    "data.hist(column='Size')\n",
    "plt.xlabel('Size')\n",
    "plt.ylabel('Frequency')"
   ]
  },
  {
   "cell_type": "markdown",
   "metadata": {
    "_uuid": "852b68d55453ba85f6d333b4102184ef7c1fb92d"
   },
   "source": [
    "## <a id='installs'>Installs</a>"
   ]
  },
  {
   "cell_type": "markdown",
   "metadata": {
    "_uuid": "edb5c8d1973b88804534d2015f5c275845ebad69"
   },
   "source": [
    "Checking unique values in Install data"
   ]
  },
  {
   "cell_type": "code",
   "execution_count": 12,
   "metadata": {
    "_uuid": "baae6e6acb6e243c905b5fbd28ea2624f6fbed91"
   },
   "outputs": [
    {
     "data": {
      "text/plain": [
       "1,000,000+        1579\n",
       "10,000,000+       1252\n",
       "100,000+          1169\n",
       "10,000+           1054\n",
       "1,000+             907\n",
       "5,000,000+         752\n",
       "100+               719\n",
       "500,000+           539\n",
       "50,000+            479\n",
       "5,000+             477\n",
       "100,000,000+       409\n",
       "10+                386\n",
       "500+               330\n",
       "50,000,000+        289\n",
       "50+                205\n",
       "5+                  82\n",
       "500,000,000+        72\n",
       "1+                  67\n",
       "1,000,000,000+      58\n",
       "0+                  14\n",
       "0                    1\n",
       "Free                 1\n",
       "Name: Installs, dtype: int64"
      ]
     },
     "execution_count": 12,
     "metadata": {},
     "output_type": "execute_result"
    }
   ],
   "source": [
    "data.Installs.value_counts()"
   ]
  },
  {
   "cell_type": "markdown",
   "metadata": {
    "_uuid": "ffebb74ef080786e28ab17af469bb16f2bdd11da"
   },
   "source": [
    "It can be seen that there are 22 unique values, out of which\n",
    "- 1 is 0, \n",
    "- 1 is Free(string) , which we will be converting to nan here\n",
    "- and rest are numeric but with '+' and ',' which shall be removed to convert these into numeric type. "
   ]
  },
  {
   "cell_type": "code",
   "execution_count": 13,
   "metadata": {
    "_uuid": "8002ab0a8a71c251b1868ab703520fbd2bbc10d3"
   },
   "outputs": [
    {
     "data": {
      "text/plain": [
       "1000000       1579\n",
       "10000000      1252\n",
       "100000        1169\n",
       "10000         1054\n",
       "1000           907\n",
       "5000000        752\n",
       "100            719\n",
       "500000         539\n",
       "50000          479\n",
       "5000           477\n",
       "100000000      409\n",
       "10             386\n",
       "500            330\n",
       "50000000       289\n",
       "50             205\n",
       "5               82\n",
       "500000000       72\n",
       "1               67\n",
       "1000000000      58\n",
       "0               15\n",
       "Name: Installs, dtype: int64"
      ]
     },
     "execution_count": 13,
     "metadata": {},
     "output_type": "execute_result"
    }
   ],
   "source": [
    "data.Installs=data.Installs.apply(lambda x: x.strip('+'))\n",
    "data.Installs=data.Installs.apply(lambda x: x.replace(',',''))\n",
    "data.Installs=data.Installs.replace('Free',np.nan)\n",
    "data.Installs.value_counts()"
   ]
  },
  {
   "cell_type": "markdown",
   "metadata": {
    "_uuid": "d4dfbc7e8934f1a1e97e30f6d51be55fe0bf3576"
   },
   "source": [
    "Checking if data is converted to numeric"
   ]
  },
  {
   "cell_type": "code",
   "execution_count": 14,
   "metadata": {
    "_uuid": "3fc57ade14ca1208a387c5ce76ec42b33dafb7d4"
   },
   "outputs": [
    {
     "data": {
      "text/plain": [
       "10840"
      ]
     },
     "execution_count": 14,
     "metadata": {},
     "output_type": "execute_result"
    }
   ],
   "source": [
    "data.Installs.str.isnumeric().sum()"
   ]
  },
  {
   "cell_type": "markdown",
   "metadata": {
    "_uuid": "9ae28a37dc5111f54b1562d11091d9c237576ea3"
   },
   "source": [
    "Now in Installs, 1 sample is non numeric out of 10841, which is nan (converted from Free to nan in previous step)"
   ]
  },
  {
   "cell_type": "code",
   "execution_count": 15,
   "metadata": {
    "_uuid": "484f4c0d1093c1ebca04ea1b99d847692c34fe79"
   },
   "outputs": [],
   "source": [
    "data.Installs=pd.to_numeric(data.Installs)"
   ]
  },
  {
   "cell_type": "code",
   "execution_count": 16,
   "metadata": {
    "_uuid": "cd5b1608c967456f292ec15e5f3381f3396a86fa"
   },
   "outputs": [
    {
     "data": {
      "text/plain": [
       "Text(0, 0.5, 'Frequency')"
      ]
     },
     "execution_count": 16,
     "metadata": {},
     "output_type": "execute_result"
    },
    {
     "data": {
      "image/png": "[encoded data removed]",
      "text/plain": [
       "<Figure size 432x288 with 1 Axes>"
      ]
     },
     "metadata": {
      "needs_background": "light"
     },
     "output_type": "display_data"
    }
   ],
   "source": [
    "data.Installs=pd.to_numeric(data.Installs)\n",
    "data.Installs.hist();\n",
    "plt.xlabel('No. of Installs')\n",
    "plt.ylabel('Frequency')"
   ]
  },
  {
   "cell_type": "markdown",
   "metadata": {
    "_uuid": "38781f9c1cc9b781c846c545babc602d4367cf90"
   },
   "source": [
    "## <a id='reviews'>Reviews</a>"
   ]
  },
  {
   "cell_type": "markdown",
   "metadata": {
    "_uuid": "67d0d8f7b45537c060c304ce7cfcefb0b6a76d18"
   },
   "source": [
    "Checking if all values in number of Reviews numeric"
   ]
  },
  {
   "cell_type": "code",
   "execution_count": 17,
   "metadata": {
    "_uuid": "4e8bdc5e70202ad36ec049e8cb26aaaf1d582c23"
   },
   "outputs": [
    {
     "data": {
      "text/plain": [
       "10840"
      ]
     },
     "execution_count": 17,
     "metadata": {},
     "output_type": "execute_result"
    }
   ],
   "source": [
    "data.Reviews.str.isnumeric().sum()"
   ]
  },
  {
   "cell_type": "markdown",
   "metadata": {
    "_uuid": "96493249c084ce94866eb0d32ac56a124231124a"
   },
   "source": [
    "One value is non numeric out of 10841. Lets find its value and id."
   ]
  },
  {
   "cell_type": "code",
   "execution_count": 18,
   "metadata": {
    "_uuid": "78d4f007457d20800a6164ddf12dfb039d208d35"
   },
   "outputs": [
    {
     "data": {
      "text/html": [
       "<div>\n",
       "<style scoped>\n",
       "    .dataframe tbody tr th:only-of-type {\n",
       "        vertical-align: middle;\n",
       "    }\n",
       "\n",
       "    .dataframe tbody tr th {\n",
       "        vertical-align: top;\n",
       "    }\n",
       "\n",
       "    .dataframe thead th {\n",
       "        text-align: right;\n",
       "    }\n",
       "</style>\n",
       "<table border=\"1\" class=\"dataframe\">\n",
       "  <thead>\n",
       "    <tr style=\"text-align: right;\">\n",
       "      <th></th>\n",
       "      <th>App</th>\n",
       "      <th>Category</th>\n",
       "      <th>Rating</th>\n",
       "      <th>Reviews</th>\n",
       "      <th>Size</th>\n",
       "      <th>Installs</th>\n",
       "      <th>Type</th>\n",
       "      <th>Price</th>\n",
       "      <th>Content_Rating</th>\n",
       "      <th>Genres</th>\n",
       "      <th>Last_Updated</th>\n",
       "      <th>Current_Ver</th>\n",
       "      <th>Android_Ver</th>\n",
       "    </tr>\n",
       "  </thead>\n",
       "  <tbody>\n",
       "    <tr>\n",
       "      <th>10472</th>\n",
       "      <td>Life Made WI-Fi Touchscreen Photo Frame</td>\n",
       "      <td>1.9</td>\n",
       "      <td>19.0</td>\n",
       "      <td>3.0M</td>\n",
       "      <td>1000.0</td>\n",
       "      <td>NaN</td>\n",
       "      <td>0</td>\n",
       "      <td>Everyone</td>\n",
       "      <td>NaN</td>\n",
       "      <td>February 11, 2018</td>\n",
       "      <td>1.0.19</td>\n",
       "      <td>4.0 and up</td>\n",
       "      <td>NaN</td>\n",
       "    </tr>\n",
       "  </tbody>\n",
       "</table>\n",
       "</div>"
      ],
      "text/plain": [
       "                                           App Category  Rating Reviews  \\\n",
       "10472  Life Made WI-Fi Touchscreen Photo Frame      1.9    19.0    3.0M   \n",
       "\n",
       "         Size  Installs Type     Price Content_Rating             Genres  \\\n",
       "10472  1000.0       NaN    0  Everyone            NaN  February 11, 2018   \n",
       "\n",
       "      Last_Updated Current_Ver Android_Ver  \n",
       "10472       1.0.19  4.0 and up         NaN  "
      ]
     },
     "execution_count": 18,
     "metadata": {},
     "output_type": "execute_result"
    }
   ],
   "source": [
    "data[~data.Reviews.str.isnumeric()]"
   ]
  },
  {
   "cell_type": "markdown",
   "metadata": {
    "_uuid": "54c7955b5d07fd6ca54b24c9735d04710ee1f448"
   },
   "source": [
    "We could have converted it into interger like we did for <a id='id'>Size</a> but the data for this App looks different. It can be noticed that the entries are entered wrong (i.e. cell backwared). We could fix it by setting **Category** as nan and shifting all the values, but deleting the sample for now. "
   ]
  },
  {
   "cell_type": "code",
   "execution_count": 19,
   "metadata": {
    "_uuid": "335430201b24f4e2ed4bacb45ac7baec3a49a836"
   },
   "outputs": [],
   "source": [
    "data=data.drop(data.index[10472])"
   ]
  },
  {
   "cell_type": "markdown",
   "metadata": {
    "_uuid": "8503acdb27852945f687ca87b029b05394106257"
   },
   "source": [
    "To check if row is deleted"
   ]
  },
  {
   "cell_type": "code",
   "execution_count": 20,
   "metadata": {
    "_uuid": "0f72b832a72c06ea64087ca963122ccd5da0b9c2"
   },
   "outputs": [
    {
     "data": {
      "text/html": [
       "<div>\n",
       "<style scoped>\n",
       "    .dataframe tbody tr th:only-of-type {\n",
       "        vertical-align: middle;\n",
       "    }\n",
       "\n",
       "    .dataframe tbody tr th {\n",
       "        vertical-align: top;\n",
       "    }\n",
       "\n",
       "    .dataframe thead th {\n",
       "        text-align: right;\n",
       "    }\n",
       "</style>\n",
       "<table border=\"1\" class=\"dataframe\">\n",
       "  <thead>\n",
       "    <tr style=\"text-align: right;\">\n",
       "      <th></th>\n",
       "      <th>App</th>\n",
       "      <th>Category</th>\n",
       "      <th>Rating</th>\n",
       "      <th>Reviews</th>\n",
       "      <th>Size</th>\n",
       "      <th>Installs</th>\n",
       "      <th>Type</th>\n",
       "      <th>Price</th>\n",
       "      <th>Content_Rating</th>\n",
       "      <th>Genres</th>\n",
       "      <th>Last_Updated</th>\n",
       "      <th>Current_Ver</th>\n",
       "      <th>Android_Ver</th>\n",
       "    </tr>\n",
       "  </thead>\n",
       "  <tbody>\n",
       "    <tr>\n",
       "      <th>10471</th>\n",
       "      <td>Xposed Wi-Fi-Pwd</td>\n",
       "      <td>PERSONALIZATION</td>\n",
       "      <td>3.5</td>\n",
       "      <td>1042</td>\n",
       "      <td>404000.0</td>\n",
       "      <td>100000.0</td>\n",
       "      <td>Free</td>\n",
       "      <td>0</td>\n",
       "      <td>Everyone</td>\n",
       "      <td>Personalization</td>\n",
       "      <td>August 5, 2014</td>\n",
       "      <td>3.0.0</td>\n",
       "      <td>4.0.3 and up</td>\n",
       "    </tr>\n",
       "    <tr>\n",
       "      <th>10473</th>\n",
       "      <td>osmino Wi-Fi: free WiFi</td>\n",
       "      <td>TOOLS</td>\n",
       "      <td>4.2</td>\n",
       "      <td>134203</td>\n",
       "      <td>4100000.0</td>\n",
       "      <td>10000000.0</td>\n",
       "      <td>Free</td>\n",
       "      <td>0</td>\n",
       "      <td>Everyone</td>\n",
       "      <td>Tools</td>\n",
       "      <td>August 7, 2018</td>\n",
       "      <td>6.06.14</td>\n",
       "      <td>4.4 and up</td>\n",
       "    </tr>\n",
       "  </tbody>\n",
       "</table>\n",
       "</div>"
      ],
      "text/plain": [
       "                           App         Category  Rating Reviews       Size  \\\n",
       "10471         Xposed Wi-Fi-Pwd  PERSONALIZATION     3.5    1042   404000.0   \n",
       "10473  osmino Wi-Fi: free WiFi            TOOLS     4.2  134203  4100000.0   \n",
       "\n",
       "         Installs  Type Price Content_Rating           Genres    Last_Updated  \\\n",
       "10471    100000.0  Free     0       Everyone  Personalization  August 5, 2014   \n",
       "10473  10000000.0  Free     0       Everyone            Tools  August 7, 2018   \n",
       "\n",
       "      Current_Ver   Android_Ver  \n",
       "10471       3.0.0  4.0.3 and up  \n",
       "10473     6.06.14    4.4 and up  "
      ]
     },
     "execution_count": 20,
     "metadata": {},
     "output_type": "execute_result"
    }
   ],
   "source": [
    "data[10471:].head(2)"
   ]
  },
  {
   "cell_type": "code",
   "execution_count": 21,
   "metadata": {
    "_uuid": "9c69a48f13c484ab6203480a3a0422d4168da7bd"
   },
   "outputs": [],
   "source": [
    "data.Reviews=data.Reviews.replace(data.Reviews[~data.Reviews.str.isnumeric()],np.nan)"
   ]
  },
  {
   "cell_type": "code",
   "execution_count": 22,
   "metadata": {
    "_uuid": "28b59baf5d7e66105e0574a644398e8564fb1bc4"
   },
   "outputs": [
    {
     "data": {
      "text/plain": [
       "Text(0, 0.5, 'Frequency')"
      ]
     },
     "execution_count": 22,
     "metadata": {},
     "output_type": "execute_result"
    },
    {
     "data": {
      "image/png": "[encoded data removed]",
      "text/plain": [
       "<Figure size 432x288 with 1 Axes>"
      ]
     },
     "metadata": {
      "needs_background": "light"
     },
     "output_type": "display_data"
    }
   ],
   "source": [
    "data.Reviews=pd.to_numeric(data.Reviews)\n",
    "data.Reviews.hist();\n",
    "plt.xlabel('No. of Reviews')\n",
    "plt.ylabel('Frequency')"
   ]
  },
  {
   "cell_type": "markdown",
   "metadata": {
    "_uuid": "6b0bd665191f706ac4c56bbb6d0cc501eafbc487"
   },
   "source": [
    "## <a id='rating'>Rating</a>"
   ]
  },
  {
   "cell_type": "markdown",
   "metadata": {
    "_uuid": "182bd9b874e5fad14b299c018329d7f39fa05d5c"
   },
   "source": [
    "For entries to be right we need to make sure they fall within the range 1 to 5."
   ]
  },
  {
   "cell_type": "code",
   "execution_count": null,
   "metadata": {
    "_uuid": "9107c71017a1cc3fbe26524fdbceb523f037a731"
   },
   "outputs": [],
   "source": [
    "print(\"Range: \", data.Rating.min(),\"-\",data.Rating.max())"
   ]
  },
  {
   "cell_type": "markdown",
   "metadata": {
    "_uuid": "0c3342d6e70bca5fc059947644d8eb146329f739"
   },
   "source": [
    "Checking the type of data, to see if it needs to be converted to numeric"
   ]
  },
  {
   "cell_type": "code",
   "execution_count": null,
   "metadata": {
    "_uuid": "dcf395aeebf825c54bacbd6aed99b851503a9616"
   },
   "outputs": [],
   "source": [
    "data.Rating.dtype"
   ]
  },
  {
   "cell_type": "markdown",
   "metadata": {
    "_uuid": "ff0e2f5f96c0651157eb6f1e321efa4dc2110b39"
   },
   "source": [
    "Data is already numeric, now checking if the data has null values"
   ]
  },
  {
   "cell_type": "code",
   "execution_count": null,
   "metadata": {
    "_uuid": "6339865662e7acba9deb6da4e64142a18dd8d947"
   },
   "outputs": [],
   "source": [
    "print(data.Rating.isna().sum(),\"null values out of\", len(data.Rating))"
   ]
  },
  {
   "cell_type": "code",
   "execution_count": null,
   "metadata": {
    "_uuid": "825ad46ae0433e46f7c7506ef15049bdf55c174e"
   },
   "outputs": [],
   "source": [
    "data.Rating.hist();\n",
    "plt.xlabel('Rating')\n",
    "plt.ylabel('Frequency')"
   ]
  },
  {
   "cell_type": "markdown",
   "metadata": {
    "_uuid": "b8fbc2b582f2c8aaeb2d0e634a3932fe9771ccb4"
   },
   "source": [
    "## <a id='Type'>Type</a>"
   ]
  },
  {
   "cell_type": "markdown",
   "metadata": {
    "_uuid": "60128e13b3719a819c8a827282ba512a9588435d"
   },
   "source": [
    "Checking for unque type values and any problem with the data"
   ]
  },
  {
   "cell_type": "code",
   "execution_count": null,
   "metadata": {
    "_uuid": "955d4de87f008618bf671bea2974a595324fa807"
   },
   "outputs": [],
   "source": [
    "data.Type.value_counts()"
   ]
  },
  {
   "cell_type": "markdown",
   "metadata": {
    "_uuid": "55dec512e11691f146a55003efe7d3bc91a15244"
   },
   "source": [
    "There are only two types, free and paid. No unwanted data here."
   ]
  },
  {
   "cell_type": "markdown",
   "metadata": {
    "_uuid": "8035bdeb7fde8065ae09dedaa2b2621315093a9a"
   },
   "source": [
    "## <a id='price'>Price</a>"
   ]
  },
  {
   "cell_type": "markdown",
   "metadata": {
    "_uuid": "a1c02c43dd005096613508ff3dce1105e082edb9"
   },
   "source": [
    "Checking for unique values of price, along with any abnormalities"
   ]
  },
  {
   "cell_type": "code",
   "execution_count": null,
   "metadata": {
    "_uuid": "9d2ff6d4209477407b3640c1da52c21f1860bdd1"
   },
   "outputs": [],
   "source": [
    "data.Price.unique()"
   ]
  },
  {
   "cell_type": "markdown",
   "metadata": {
    "_uuid": "629dc21dbab4b04d77a9f4e0633d78c8a8478cc1"
   },
   "source": [
    "Data had **$** sign which shall be removed to convert it to numeric"
   ]
  },
  {
   "cell_type": "code",
   "execution_count": null,
   "metadata": {
    "_uuid": "3bae3ec388ae4b40f18c0820264b8a40ec49fd2d"
   },
   "outputs": [],
   "source": [
    "data.Price=data.Price.apply(lambda x: x.strip('$'))"
   ]
  },
  {
   "cell_type": "code",
   "execution_count": null,
   "metadata": {
    "_uuid": "a8b4408677ca4b68cb353a9b3d20c4c418c6367e"
   },
   "outputs": [],
   "source": [
    "data.Price=pd.to_numeric(data.Price)\n",
    "data.Price.hist();\n",
    "plt.xlabel('Price')\n",
    "plt.ylabel('Frequency')"
   ]
  },
  {
   "cell_type": "markdown",
   "metadata": {
    "_uuid": "152687d37398a66d071f8d97f1c61c0938421915"
   },
   "source": [
    "Some apps have price higher than 350. Out of curiosity I checked the apps to see if there is a problem with data. But no !! they do exist, and Yes !! people buy them."
   ]
  },
  {
   "cell_type": "code",
   "execution_count": null,
   "metadata": {
    "_uuid": "187b7558106d419c1530a028d383b0ecfd2a42dd"
   },
   "outputs": [],
   "source": [
    "temp=data.Price.apply(lambda x: True if x>350 else False)\n",
    "data[temp].head(3)"
   ]
  },
  {
   "cell_type": "markdown",
   "metadata": {
    "_uuid": "d55bb81a247ece7c749291b873b2ddce715b59e4"
   },
   "source": [
    "## <a id='cat'>Category</a>"
   ]
  },
  {
   "cell_type": "markdown",
   "metadata": {
    "_uuid": "dd7a79dedda95b928d545c6b597fb6acbdd80110"
   },
   "source": [
    "Now lets inspect the category by looking into the unique terms. "
   ]
  },
  {
   "cell_type": "code",
   "execution_count": null,
   "metadata": {
    "_uuid": "fbe619bb68f4d03dea0f525fc67e1783b20a620c"
   },
   "outputs": [],
   "source": [
    "data.Category.unique()"
   ]
  },
  {
   "cell_type": "markdown",
   "metadata": {
    "_uuid": "01152fd128e87267a7f458ffb4348cf5e07fc38e"
   },
   "source": [
    "It shows no repetition or false data"
   ]
  },
  {
   "cell_type": "code",
   "execution_count": null,
   "metadata": {
    "_uuid": "1b05289457511a5f84aeb315c8ce3e0398fe807f"
   },
   "outputs": [],
   "source": [
    "data.Category.value_counts().plot(kind='bar')"
   ]
  },
  {
   "cell_type": "markdown",
   "metadata": {
    "_uuid": "701d12b216df5765b629caf387c3c81cb19f7890"
   },
   "source": [
    "## <a id='content_rating'>Content Rating </a>"
   ]
  },
  {
   "cell_type": "markdown",
   "metadata": {
    "_uuid": "eecdad6fc608bb9111d3c490732d3ce6b134d5a3"
   },
   "source": [
    "Checking unique terms in Content Rating Categories, and for repetitive or abnormal data."
   ]
  },
  {
   "cell_type": "code",
   "execution_count": null,
   "metadata": {
    "_uuid": "92d0aa52eb3770f26975c562009422fee1693927"
   },
   "outputs": [],
   "source": [
    "data.Content_Rating.unique()"
   ]
  },
  {
   "cell_type": "markdown",
   "metadata": {
    "_uuid": "efdea6bd14dd623d1521a25def9efa0dc70b96f0"
   },
   "source": [
    "No abnormalies or repetition found"
   ]
  },
  {
   "cell_type": "code",
   "execution_count": null,
   "metadata": {
    "_uuid": "674d744f013a0e9d7021c2ad15331b6353c1a5be"
   },
   "outputs": [],
   "source": [
    "data.Content_Rating.value_counts().plot(kind='bar')\n",
    "plt.yscale('log')"
   ]
  },
  {
   "cell_type": "markdown",
   "metadata": {
    "_uuid": "4c479cf15f8fa711088e9dd220091152938dd7df"
   },
   "source": [
    "## <a id='genres'>Genres</a>"
   ]
  },
  {
   "cell_type": "markdown",
   "metadata": {
    "_uuid": "33b29c66a3b45fea2831ee11fc6f333dd7c1b297"
   },
   "source": [
    "Checking for unique values, abnormalitity or repetition in data"
   ]
  },
  {
   "cell_type": "code",
   "execution_count": null,
   "metadata": {
    "_uuid": "c3f557e4a28df21c195159b684919767b95de6cf"
   },
   "outputs": [],
   "source": [
    "data.Genres.unique()"
   ]
  },
  {
   "cell_type": "markdown",
   "metadata": {
    "_uuid": "f567efc69cfd313cbcb1910530d96cc4ff9b57eb"
   },
   "source": [
    "The data is in the format **Category;Subcategory**. Lets divide the data into two columns, one as primary category and the other as secondary, using **;** as separator."
   ]
  },
  {
   "cell_type": "code",
   "execution_count": null,
   "metadata": {
    "_uuid": "66509f9e76004d604a2fc899f79f5e1544696620"
   },
   "outputs": [],
   "source": [
    "sep = ';'\n",
    "rest = data.Genres.apply(lambda x: x.split(sep)[0])\n",
    "data['Pri_Genres']=rest\n",
    "data.Pri_Genres.head()"
   ]
  },
  {
   "cell_type": "code",
   "execution_count": null,
   "metadata": {
    "_uuid": "78e77cc8a4b0007519aa48f656cf922e80502080"
   },
   "outputs": [],
   "source": [
    "rest = data.Genres.apply(lambda x: x.split(sep)[-1])\n",
    "rest.unique()\n",
    "data['Sec_Genres']=rest\n",
    "data.Sec_Genres.head()"
   ]
  },
  {
   "cell_type": "code",
   "execution_count": null,
   "metadata": {
    "_uuid": "1ef0faeecd4dad023ceba3ffddb2248428ff800f"
   },
   "outputs": [],
   "source": [
    "grouped = data.groupby(['Pri_Genres','Sec_Genres'])\n",
    "grouped.size().head(15)"
   ]
  },
  {
   "cell_type": "markdown",
   "metadata": {
    "_uuid": "87faac320dc421bba57ed9abcb2e06bc40097e11"
   },
   "source": [
    "Generating a two table to better understand the relationship between primary and secondary categories of Genres"
   ]
  },
  {
   "cell_type": "code",
   "execution_count": null,
   "metadata": {
    "_uuid": "4cd3728f426aac29e25c580693f92dd4459c57ce"
   },
   "outputs": [],
   "source": [
    "twowaytable = pd.crosstab(index=data[\"Pri_Genres\"],columns=data[\"Sec_Genres\"])\n",
    "twowaytable.head()"
   ]
  },
  {
   "cell_type": "markdown",
   "metadata": {
    "_uuid": "04f6d48a415549cc9fc07f65e150b83171358b36"
   },
   "source": [
    "For visual representation of this data, lets use stacked columns"
   ]
  },
  {
   "cell_type": "code",
   "execution_count": null,
   "metadata": {
    "_uuid": "9500117392a7e6c2e4bd0cf55b5f5ad6d9ef01de"
   },
   "outputs": [],
   "source": [
    "twowaytable.plot(kind=\"barh\", figsize=(15,15),stacked=True);\n",
    "plt.legend(bbox_to_anchor=(1.0,1.0))"
   ]
  },
  {
   "cell_type": "markdown",
   "metadata": {
    "_uuid": "6b225fcec28ce06a29652251f294c9478bc45491"
   },
   "source": [
    "## <a id='last_updated'>Last Updated</a>"
   ]
  },
  {
   "cell_type": "markdown",
   "metadata": {
    "_uuid": "8823bb6bbd0c5f5cfd8486ff6384cc4ffcc3cdac"
   },
   "source": [
    "Checking the format of data in Last Updated Dates"
   ]
  },
  {
   "cell_type": "code",
   "execution_count": null,
   "metadata": {
    "_uuid": "335709f71635af8d11fb4057e3b8d0d91cd69cf0"
   },
   "outputs": [],
   "source": [
    "data.Last_Updated.head()"
   ]
  },
  {
   "cell_type": "markdown",
   "metadata": {
    "_uuid": "7e77e49c6e88f03c14764c81b354270966d82048"
   },
   "source": [
    "Converting the data i.e. string to datetime format for furthur processing"
   ]
  },
  {
   "cell_type": "code",
   "execution_count": null,
   "metadata": {
    "_uuid": "eba3afb74e358dadc032967c3d37815b255ed76d"
   },
   "outputs": [],
   "source": [
    "from datetime import datetime,date\n",
    "temp=pd.to_datetime(data.Last_Updated)\n",
    "temp.head()"
   ]
  },
  {
   "cell_type": "markdown",
   "metadata": {
    "_uuid": "a8dff53f4196044436d8f3305f81bc2ddb4b2493"
   },
   "source": [
    "Taking a difference between last updated date and today to simplify the data for future processing. It gives days."
   ]
  },
  {
   "cell_type": "code",
   "execution_count": null,
   "metadata": {
    "_uuid": "2bddd18b41ac61fb902088014050b4e1f94f9c0b"
   },
   "outputs": [],
   "source": [
    "data['Last_Updated_Days'] = temp.apply(lambda x:date.today()-datetime.date(x))\n",
    "data.Last_Updated_Days.head()"
   ]
  },
  {
   "cell_type": "markdown",
   "metadata": {
    "_uuid": "6392b83e5b27a2e5f3b3b8236aacd4c781bac214"
   },
   "source": [
    "## <a id='android_version'>Android Version</a>"
   ]
  },
  {
   "cell_type": "markdown",
   "metadata": {
    "_uuid": "a68fc9c45a934e2e63c6e1e1dfb81bfc73fe319a"
   },
   "source": [
    "Checking unique values, repetition, or any abnormalities."
   ]
  },
  {
   "cell_type": "code",
   "execution_count": null,
   "metadata": {
    "_uuid": "0d7feeb0dc6cf9f7b8a9c5fec96e817582b69b1b"
   },
   "outputs": [],
   "source": [
    "data.Android_Ver.unique()"
   ]
  },
  {
   "cell_type": "markdown",
   "metadata": {
    "_uuid": "a1aa2d899ecb23b667fc1c97556b123a1407078b"
   },
   "source": [
    "Most of the values have a upper value and a lower value (i.e. a range), lets divide them as two new features **Version begin and end**, which might come handy while processing data furthur."
   ]
  },
  {
   "cell_type": "code",
   "execution_count": null,
   "metadata": {
    "_uuid": "4af8c9ad278d9ea6ccdf6cc5d84bff52ceed424b"
   },
   "outputs": [],
   "source": [
    "data['Version_begin']=data.Android_Ver.apply(lambda x:str(x).split(' and ')[0].split(' - ')[0])\n",
    "data.Version_begin=data.Version_begin.replace('4.4W','4.4')\n",
    "data['Version_end']=data.Android_Ver.apply(lambda x:str(x).split(' and ')[-1].split(' - ')[-1])"
   ]
  },
  {
   "cell_type": "code",
   "execution_count": null,
   "metadata": {
    "_uuid": "c83e05194f5c4d82771b69ae054a7d2512c4be65"
   },
   "outputs": [],
   "source": [
    "data.Version_begin.unique()"
   ]
  },
  {
   "cell_type": "markdown",
   "metadata": {
    "_uuid": "77c659dba062b127fdfad7a87f1392d1e7f1b97c"
   },
   "source": [
    "Representing categorial data as two way table and plotting it as stacked columns for better understanding."
   ]
  },
  {
   "cell_type": "code",
   "execution_count": null,
   "metadata": {
    "_uuid": "624516c86bb6653a7d9d6b8762cab0ff2662929c"
   },
   "outputs": [],
   "source": [
    "twowaytable = pd.crosstab(index=data.Version_begin,columns=data.Version_end)\n",
    "twowaytable.head()"
   ]
  },
  {
   "cell_type": "code",
   "execution_count": null,
   "metadata": {
    "_uuid": "c3027f9d782564c1c804546fb26e8c783551abf3"
   },
   "outputs": [],
   "source": [
    "twowaytable.plot(kind=\"barh\", figsize=(15,15),stacked=True);\n",
    "plt.legend(bbox_to_anchor=(1.0,1.0))\n",
    "plt.xscale('log')"
   ]
  },
  {
   "cell_type": "code",
   "execution_count": null,
   "metadata": {
    "_uuid": "946f6785d4210edacc2d7b2672a9bc7055e16dec"
   },
   "outputs": [],
   "source": [
    "data.Version_end.unique()"
   ]
  },
  {
   "cell_type": "markdown",
   "metadata": {
    "_uuid": "7805b8a488b1ae25f67f886b378a5a4e546385c1"
   },
   "source": [
    "## <a id='current_version'>Current Version</a>"
   ]
  },
  {
   "cell_type": "code",
   "execution_count": null,
   "metadata": {
    "_uuid": "863b93ccabe61177993c2b4eb146ca4707a0268d"
   },
   "outputs": [],
   "source": [
    "data.Current_Ver.value_counts().head(6)"
   ]
  },
  {
   "cell_type": "markdown",
   "metadata": {
    "_uuid": "749774c9a132f0234ecccd05b88f329dceb6d208"
   },
   "source": [
    "Lets convert all the versions in the format **number.number** to simplify the data, and check if the data has null values. Also, we are not considering converting value_counts to nan here due to its high frequency."
   ]
  },
  {
   "cell_type": "code",
   "execution_count": null,
   "metadata": {
    "_uuid": "256446da8418f771bf2894156df6a8aeab85b396"
   },
   "outputs": [],
   "source": [
    "data.Current_Ver.isna().sum()"
   ]
  },
  {
   "cell_type": "markdown",
   "metadata": {
    "_uuid": "37b3600df628fcd33d9f46b7df8c9033bd3783b4"
   },
   "source": [
    "As we have only **8** nans lets replace them with **Varies with data** to simplify "
   ]
  },
  {
   "cell_type": "code",
   "execution_count": null,
   "metadata": {
    "_uuid": "f58e4ce4e9d6ff5a63f49cc5ede897c76ad28d63"
   },
   "outputs": [],
   "source": [
    "import re\n",
    "temp=data.Current_Ver.replace(np.nan,'Varies with device')\n",
    "temp=temp.apply(lambda x: 'Varies with device' if x=='Varies with device'  else  re.findall('^[0-9]\\.[0-9]|[\\d]|\\W*',str(x))[0] )"
   ]
  },
  {
   "cell_type": "code",
   "execution_count": null,
   "metadata": {
    "_uuid": "a94e6a5f5bf032d6bc199ee3be5f318ea8db07c9"
   },
   "outputs": [],
   "source": [
    "temp.unique()"
   ]
  },
  {
   "cell_type": "markdown",
   "metadata": {
    "_uuid": "ebaf1222c05f77f914dcc7a719b80e073a8e5929"
   },
   "source": [
    "Saving the updated current version values as a new column"
   ]
  },
  {
   "cell_type": "code",
   "execution_count": null,
   "metadata": {
    "_uuid": "75067535c8ee13072920a3bef6ee6d988649dcca"
   },
   "outputs": [],
   "source": [
    "data['Current_Ver_updated']=temp"
   ]
  },
  {
   "cell_type": "code",
   "execution_count": null,
   "metadata": {
    "_uuid": "a08755b199cdaa0abc8264a89ba78dc5e4fbe566"
   },
   "outputs": [],
   "source": [
    "data.Current_Ver_updated.value_counts().plot(kind=\"barh\", figsize=(15,15));\n",
    "plt.legend(bbox_to_anchor=(1.0,1.0))\n",
    "plt.xscale('log')"
   ]
  },
  {
   "cell_type": "code",
   "execution_count": null,
   "metadata": {
    "_uuid": "93ee66d0323d28c3b090d546c1d297dee9ac0272"
   },
   "outputs": [],
   "source": []
  },
  {
   "cell_type": "code",
   "execution_count": null,
   "metadata": {
    "_uuid": "de24b442deeb2d2e8ebe6dbea716530e1d6c17c7"
   },
   "outputs": [],
   "source": []
  }
 ],
 "metadata": {
  "kernelspec": {
   "display_name": "Python 3",
   "language": "python",
   "name": "python3"
  },
  "language_info": {
   "codemirror_mode": {
    "name": "ipython",
    "version": 3
   },
   "file_extension": ".py",
   "mimetype": "text/x-python",
   "name": "python",
   "nbconvert_exporter": "python",
   "pygments_lexer": "ipython3",
   "version": "3.6.8"
  }
 },
 "nbformat": 4,
 "nbformat_minor": 1
}
